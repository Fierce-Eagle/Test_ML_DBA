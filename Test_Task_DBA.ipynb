{
 "cells": [
  {
   "cell_type": "code",
   "execution_count": 1,
   "id": "11b9c604",
   "metadata": {},
   "outputs": [],
   "source": [
    "import torch\n",
    "import dataset as my_dataset\n",
    "import pandas as pd"
   ]
  },
  {
   "cell_type": "code",
   "execution_count": 2,
   "id": "d1f51cee",
   "metadata": {},
   "outputs": [
    {
     "name": "stdout",
     "output_type": "stream",
     "text": [
      "using device: cpu\n"
     ]
    }
   ],
   "source": [
    "if torch.cuda.is_available():\n",
    "    device = torch.device('cuda')\n",
    "else:\n",
    "    device = torch.device('cpu')\n",
    "\n",
    "print('using device:', device)"
   ]
  },
  {
   "cell_type": "code",
   "execution_count": 3,
   "id": "ba05d263",
   "metadata": {},
   "outputs": [
    {
     "data": {
      "text/html": [
       "<div>\n",
       "<style scoped>\n",
       "    .dataframe tbody tr th:only-of-type {\n",
       "        vertical-align: middle;\n",
       "    }\n",
       "\n",
       "    .dataframe tbody tr th {\n",
       "        vertical-align: top;\n",
       "    }\n",
       "\n",
       "    .dataframe thead th {\n",
       "        text-align: right;\n",
       "    }\n",
       "</style>\n",
       "<table border=\"1\" class=\"dataframe\">\n",
       "  <thead>\n",
       "    <tr style=\"text-align: right;\">\n",
       "      <th></th>\n",
       "      <th>image</th>\n",
       "      <th>label</th>\n",
       "    </tr>\n",
       "  </thead>\n",
       "  <tbody>\n",
       "    <tr>\n",
       "      <th>0</th>\n",
       "      <td>30900_5_010.jpg</td>\n",
       "      <td>010</td>\n",
       "    </tr>\n",
       "    <tr>\n",
       "      <th>1</th>\n",
       "      <td>267155_9_010.jpg</td>\n",
       "      <td>010</td>\n",
       "    </tr>\n",
       "    <tr>\n",
       "      <th>2</th>\n",
       "      <td>125867_3_000.jpg</td>\n",
       "      <td>000</td>\n",
       "    </tr>\n",
       "    <tr>\n",
       "      <th>3</th>\n",
       "      <td>10762_10_010.jpg</td>\n",
       "      <td>010</td>\n",
       "    </tr>\n",
       "    <tr>\n",
       "      <th>4</th>\n",
       "      <td>68924_5_000.jpg</td>\n",
       "      <td>000</td>\n",
       "    </tr>\n",
       "  </tbody>\n",
       "</table>\n",
       "</div>"
      ],
      "text/plain": [
       "              image label\n",
       "0   30900_5_010.jpg   010\n",
       "1  267155_9_010.jpg   010\n",
       "2  125867_3_000.jpg   000\n",
       "3  10762_10_010.jpg   010\n",
       "4   68924_5_000.jpg   000"
      ]
     },
     "execution_count": 3,
     "metadata": {},
     "output_type": "execute_result"
    }
   ],
   "source": [
    "path = \"/home/host/Documents/JupyterProjects/Test_ML_DBA/dataset_test_task/\"\n",
    "\n",
    "loaded_data = my_dataset.DataLoad(path)\n",
    "loaded_data.data.head()"
   ]
  },
  {
   "cell_type": "code",
   "execution_count": 4,
   "id": "de97be72",
   "metadata": {},
   "outputs": [
    {
     "data": {
      "text/plain": [
       "(6000, 2)"
      ]
     },
     "execution_count": 4,
     "metadata": {},
     "output_type": "execute_result"
    }
   ],
   "source": [
    "data = loaded_data.data\n",
    "data.shape"
   ]
  },
  {
   "cell_type": "code",
   "execution_count": 5,
   "id": "04ee3467",
   "metadata": {
    "scrolled": true
   },
   "outputs": [
    {
     "name": "stdout",
     "output_type": "stream",
     "text": [
      "Размер набора данных (15061, 2)\n"
     ]
    }
   ],
   "source": [
    "# Дисбаланс классов!!!\n",
    "\n",
    "# [000] = 2186\n",
    "# [001] = 545\n",
    "# [010] = 2008\n",
    "# [011] = 5\n",
    "# [100] = 1226\n",
    "# [101] = 8\n",
    "# [110] = 22\n",
    "# [111] = 0 - нет данных\n",
    "\n",
    "main_df = my_dataset.augmented_dataset(path, data)\n",
    "print('Размер набора данных', main_df.shape)"
   ]
  },
  {
   "cell_type": "code",
   "execution_count": 6,
   "id": "0bc11e99",
   "metadata": {
    "scrolled": true
   },
   "outputs": [
    {
     "name": "stdout",
     "output_type": "stream",
     "text": [
      "Размер тренировочного набора данных (12048, 2)\n",
      "Размер валидационного набора данных (1506, 2)\n",
      "Размер тестового набора данных (1507, 2)\n"
     ]
    }
   ],
   "source": [
    "x_train, x_valid, x_test = my_dataset.split_data(main_df)\n",
    "\n",
    "x_train = x_train.reset_index(drop=True)\n",
    "x_valid = x_valid.reset_index(drop=True)\n",
    "x_test = x_test.reset_index(drop=True)\n",
    "\n",
    "print('Размер тренировочного набора данных', x_train.shape)\n",
    "print('Размер валидационного набора данных', x_valid.shape)\n",
    "print('Размер тестового набора данных', x_test.shape)"
   ]
  },
  {
   "cell_type": "code",
   "execution_count": 7,
   "id": "4fd4d9b1",
   "metadata": {},
   "outputs": [],
   "source": [
    "from dataset import CustomDataset\n",
    "\n",
    "train_dataset = CustomDataset(data_frame=x_train)\n",
    "valid_dataset = CustomDataset(data_frame=x_valid)\n",
    "test_dataset = CustomDataset(data_frame=x_test)"
   ]
  },
  {
   "cell_type": "code",
   "execution_count": 8,
   "id": "c8580c35",
   "metadata": {},
   "outputs": [],
   "source": [
    "from torch.utils.data import DataLoader\n",
    "\n",
    "batch_size = 64 # размер батча\n",
    "train_loader = DataLoader(train_dataset, batch_size=batch_size, shuffle=True)\n",
    "valid_loader = DataLoader(valid_dataset, batch_size=batch_size, shuffle=False)\n",
    "test_loader = DataLoader(test_dataset, batch_size=batch_size, shuffle=False)"
   ]
  },
  {
   "cell_type": "code",
   "execution_count": 9,
   "id": "dda74d74",
   "metadata": {},
   "outputs": [
    {
     "name": "stdout",
     "output_type": "stream",
     "text": [
      "Epoch [0/15], loss = 1.6506 acc_val = 0.5093\n",
      "Epoch [1/15], loss = 1.0402 acc_val = 0.5956\n",
      "Epoch [2/15], loss = 0.8474 acc_val = 0.6208\n",
      "Epoch [3/15], loss = 0.7639 acc_val = 0.6580\n",
      "Epoch [4/15], loss = 0.7098 acc_val = 0.6501\n",
      "Epoch [5/15], loss = 0.6622 acc_val = 0.6780\n",
      "Epoch [6/15], loss = 0.6075 acc_val = 0.6939\n",
      "Epoch [7/15], loss = 0.5778 acc_val = 0.6886\n",
      "Epoch [8/15], loss = 0.5348 acc_val = 0.7019\n",
      "Epoch [9/15], loss = 0.5057 acc_val = 0.7085\n",
      "Epoch [10/15], loss = 0.4732 acc_val = 0.7291\n",
      "Epoch [11/15], loss = 0.4517 acc_val = 0.7125\n",
      "Epoch [12/15], loss = 0.4191 acc_val = 0.7364\n",
      "Epoch [13/15], loss = 0.3986 acc_val = 0.7390\n",
      "Epoch [14/15], loss = 0.3768 acc_val = 0.7490\n"
     ]
    }
   ],
   "source": [
    "import model\n",
    "from train import train_model\n",
    "\n",
    "net = model.CNN().to(device)\n",
    "\n",
    "loss_history, best_model = train_model(train_loader, valid_loader, net, epochs=15, device=device)"
   ]
  },
  {
   "cell_type": "code",
   "execution_count": 10,
   "id": "25abe14c",
   "metadata": {},
   "outputs": [],
   "source": [
    "from train import test_model\n",
    "\n",
    "y_pred_test = test_model(model=best_model, loader_test=test_loader, device=device)\n"
   ]
  },
  {
   "cell_type": "code",
   "execution_count": 11,
   "id": "2974cc07",
   "metadata": {},
   "outputs": [
    {
     "data": {
      "image/png": "[encoded data removed]",
      "text/plain": [
       "<Figure size 640x480 with 1 Axes>"
      ]
     },
     "metadata": {},
     "output_type": "display_data"
    }
   ],
   "source": [
    "from matplotlib import pyplot as plt\n",
    "\n",
    "plt.title('График потерь',fontsize=15)\n",
    "plt.xlabel('Эпохи',fontsize=12)\n",
    "plt.ylabel('Потери',fontsize=12)\n",
    "plt.plot(loss_history)\n",
    "\n",
    "plt.show()"
   ]
  },
  {
   "cell_type": "code",
   "execution_count": 12,
   "id": "3f1fc1d5",
   "metadata": {},
   "outputs": [
    {
     "name": "stdout",
     "output_type": "stream",
     "text": [
      "Оценка качества F1 (общая): 0.7518248175182483\n",
      "\n",
      "Оценка качества F1 по классам:\n",
      "Оценка качества F1 (000): 0.4631578947368421\n",
      "Оценка качества F1 (001): 0.7300215982721383\n",
      "Оценка качества F1 (010): 0.48633879781420764\n",
      "Оценка качества F1 (011): 1.0\n",
      "Оценка качества F1 (100): 0.6214442013129103\n",
      "Оценка качества F1 (101): 0.9925925925925926\n",
      "Оценка качества F1 (110): 0.9910714285714286\n"
     ]
    }
   ],
   "source": [
    "import sklearn.metrics as metrics\n",
    "import numpy as np\n",
    "\n",
    "y_true_test = np.array(x_test['label'])\n",
    "\n",
    "y_predict_test = []\n",
    "for y_pred in y_pred_test:\n",
    "    y_predict_test.append(y_pred)\n",
    "Y_predict_test = np.array(y_predict_test).reshape(-1)\n",
    "\n",
    "# [000] - 0\n",
    "# [001] = 1\n",
    "# [010] = 2\n",
    "# [011] = 3\n",
    "# [100] = 4\n",
    "# [101] = 5\n",
    "# [110] = 6\n",
    "# [111] = нет данных\n",
    "result_total = metrics.f1_score(y_true_test, Y_predict_test, average='micro')\n",
    "class_results = metrics.f1_score(y_true_test, Y_predict_test, average=None)\n",
    "\n",
    "\n",
    "print(\"Оценка качества F1 (общая):\", result_total)\n",
    "print()\n",
    "print(\"Оценка качества F1 по классам:\")\n",
    "print(\"Оценка качества F1 (000):\", class_results[0])\n",
    "print(\"Оценка качества F1 (001):\", class_results[1])\n",
    "print(\"Оценка качества F1 (010):\", class_results[2])\n",
    "print(\"Оценка качества F1 (011):\", class_results[3])\n",
    "print(\"Оценка качества F1 (100):\", class_results[4])\n",
    "print(\"Оценка качества F1 (101):\", class_results[5])\n",
    "print(\"Оценка качества F1 (110):\", class_results[6])"
   ]
  },
  {
   "cell_type": "code",
   "execution_count": 13,
   "id": "ff35e8ca",
   "metadata": {},
   "outputs": [
    {
     "data": {
      "text/html": [
       "<div>\n",
       "<style scoped>\n",
       "    .dataframe tbody tr th:only-of-type {\n",
       "        vertical-align: middle;\n",
       "    }\n",
       "\n",
       "    .dataframe tbody tr th {\n",
       "        vertical-align: top;\n",
       "    }\n",
       "\n",
       "    .dataframe thead th {\n",
       "        text-align: right;\n",
       "    }\n",
       "</style>\n",
       "<table border=\"1\" class=\"dataframe\">\n",
       "  <thead>\n",
       "    <tr style=\"text-align: right;\">\n",
       "      <th></th>\n",
       "      <th>000</th>\n",
       "      <th>001</th>\n",
       "      <th>010</th>\n",
       "      <th>011</th>\n",
       "      <th>100</th>\n",
       "      <th>101</th>\n",
       "      <th>110</th>\n",
       "    </tr>\n",
       "  </thead>\n",
       "  <tbody>\n",
       "    <tr>\n",
       "      <th>000</th>\n",
       "      <td>110</td>\n",
       "      <td>29</td>\n",
       "      <td>50</td>\n",
       "      <td>0</td>\n",
       "      <td>29</td>\n",
       "      <td>1</td>\n",
       "      <td>0</td>\n",
       "    </tr>\n",
       "    <tr>\n",
       "      <th>001</th>\n",
       "      <td>26</td>\n",
       "      <td>169</td>\n",
       "      <td>3</td>\n",
       "      <td>0</td>\n",
       "      <td>18</td>\n",
       "      <td>0</td>\n",
       "      <td>2</td>\n",
       "    </tr>\n",
       "    <tr>\n",
       "      <th>010</th>\n",
       "      <td>66</td>\n",
       "      <td>23</td>\n",
       "      <td>89</td>\n",
       "      <td>0</td>\n",
       "      <td>22</td>\n",
       "      <td>0</td>\n",
       "      <td>1</td>\n",
       "    </tr>\n",
       "    <tr>\n",
       "      <th>011</th>\n",
       "      <td>0</td>\n",
       "      <td>0</td>\n",
       "      <td>0</td>\n",
       "      <td>200</td>\n",
       "      <td>0</td>\n",
       "      <td>0</td>\n",
       "      <td>0</td>\n",
       "    </tr>\n",
       "    <tr>\n",
       "      <th>100</th>\n",
       "      <td>54</td>\n",
       "      <td>24</td>\n",
       "      <td>23</td>\n",
       "      <td>0</td>\n",
       "      <td>142</td>\n",
       "      <td>2</td>\n",
       "      <td>1</td>\n",
       "    </tr>\n",
       "    <tr>\n",
       "      <th>101</th>\n",
       "      <td>0</td>\n",
       "      <td>0</td>\n",
       "      <td>0</td>\n",
       "      <td>0</td>\n",
       "      <td>0</td>\n",
       "      <td>201</td>\n",
       "      <td>0</td>\n",
       "    </tr>\n",
       "    <tr>\n",
       "      <th>110</th>\n",
       "      <td>0</td>\n",
       "      <td>0</td>\n",
       "      <td>0</td>\n",
       "      <td>0</td>\n",
       "      <td>0</td>\n",
       "      <td>0</td>\n",
       "      <td>222</td>\n",
       "    </tr>\n",
       "  </tbody>\n",
       "</table>\n",
       "</div>"
      ],
      "text/plain": [
       "     000  001  010  011  100  101  110\n",
       "000  110   29   50    0   29    1    0\n",
       "001   26  169    3    0   18    0    2\n",
       "010   66   23   89    0   22    0    1\n",
       "011    0    0    0  200    0    0    0\n",
       "100   54   24   23    0  142    2    1\n",
       "101    0    0    0    0    0  201    0\n",
       "110    0    0    0    0    0    0  222"
      ]
     },
     "execution_count": 13,
     "metadata": {},
     "output_type": "execute_result"
    }
   ],
   "source": [
    "from sklearn.metrics import confusion_matrix\n",
    "\n",
    "conf_matrix_test = confusion_matrix(y_true_test, Y_predict_test)\n",
    "conf_matrix_labels_test = pd.DataFrame(conf_matrix_test, \n",
    "                                       columns = ['000', '001', '010', '011', '100', '101', '110'], \n",
    "                                       index = ['000', '001', '010', '011', '100', '101', '110'])\n",
    "conf_matrix_labels_test"
   ]
  },
  {
   "cell_type": "code",
   "execution_count": null,
   "id": "68efeb49",
   "metadata": {},
   "outputs": [],
   "source": []
  }
 ],
 "metadata": {
  "kernelspec": {
   "display_name": "Python 3 (ipykernel)",
   "language": "python",
   "name": "python3"
  },
  "language_info": {
   "codemirror_mode": {
    "name": "ipython",
    "version": 3
   },
   "file_extension": ".py",
   "mimetype": "text/x-python",
   "name": "python",
   "nbconvert_exporter": "python",
   "pygments_lexer": "ipython3",
   "version": "3.10.12"
  }
 },
 "nbformat": 4,
 "nbformat_minor": 5
}
