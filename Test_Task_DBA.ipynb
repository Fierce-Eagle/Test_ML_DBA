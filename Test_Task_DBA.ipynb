{
 "cells": [
  {
   "cell_type": "code",
   "execution_count": 1,
   "id": "11b9c604",
   "metadata": {},
   "outputs": [],
   "source": [
    "import torch\n",
    "import dataset as my_dataset\n",
    "import pandas as pd"
   ]
  },
  {
   "cell_type": "code",
   "execution_count": 2,
   "id": "d1f51cee",
   "metadata": {},
   "outputs": [
    {
     "name": "stdout",
     "output_type": "stream",
     "text": [
      "using device: cpu\n"
     ]
    }
   ],
   "source": [
    "if torch.cuda.is_available():\n",
    "    device = torch.device('cuda')\n",
    "else:\n",
    "    device = torch.device('cpu')\n",
    "\n",
    "print('using device:', device)"
   ]
  },
  {
   "cell_type": "code",
   "execution_count": 3,
   "id": "ba05d263",
   "metadata": {},
   "outputs": [
    {
     "data": {
      "text/html": [
       "<div>\n",
       "<style scoped>\n",
       "    .dataframe tbody tr th:only-of-type {\n",
       "        vertical-align: middle;\n",
       "    }\n",
       "\n",
       "    .dataframe tbody tr th {\n",
       "        vertical-align: top;\n",
       "    }\n",
       "\n",
       "    .dataframe thead th {\n",
       "        text-align: right;\n",
       "    }\n",
       "</style>\n",
       "<table border=\"1\" class=\"dataframe\">\n",
       "  <thead>\n",
       "    <tr style=\"text-align: right;\">\n",
       "      <th></th>\n",
       "      <th>image</th>\n",
       "      <th>label</th>\n",
       "    </tr>\n",
       "  </thead>\n",
       "  <tbody>\n",
       "    <tr>\n",
       "      <th>0</th>\n",
       "      <td>30900_5_010.jpg</td>\n",
       "      <td>010</td>\n",
       "    </tr>\n",
       "    <tr>\n",
       "      <th>1</th>\n",
       "      <td>267155_9_010.jpg</td>\n",
       "      <td>010</td>\n",
       "    </tr>\n",
       "    <tr>\n",
       "      <th>2</th>\n",
       "      <td>125867_3_000.jpg</td>\n",
       "      <td>000</td>\n",
       "    </tr>\n",
       "    <tr>\n",
       "      <th>3</th>\n",
       "      <td>10762_10_010.jpg</td>\n",
       "      <td>010</td>\n",
       "    </tr>\n",
       "    <tr>\n",
       "      <th>4</th>\n",
       "      <td>68924_5_000.jpg</td>\n",
       "      <td>000</td>\n",
       "    </tr>\n",
       "  </tbody>\n",
       "</table>\n",
       "</div>"
      ],
      "text/plain": [
       "              image label\n",
       "0   30900_5_010.jpg   010\n",
       "1  267155_9_010.jpg   010\n",
       "2  125867_3_000.jpg   000\n",
       "3  10762_10_010.jpg   010\n",
       "4   68924_5_000.jpg   000"
      ]
     },
     "execution_count": 3,
     "metadata": {},
     "output_type": "execute_result"
    }
   ],
   "source": [
    "path = \"/home/host/Documents/JupyterProjects/Test_ML_DBA/dataset_test_task/\"\n",
    "\n",
    "loaded_data = my_dataset.DataLoad(path)\n",
    "loaded_data.data.head()"
   ]
  },
  {
   "cell_type": "code",
   "execution_count": 4,
   "id": "de97be72",
   "metadata": {},
   "outputs": [
    {
     "data": {
      "text/plain": [
       "(6000, 2)"
      ]
     },
     "execution_count": 4,
     "metadata": {},
     "output_type": "execute_result"
    }
   ],
   "source": [
    "data = loaded_data.data\n",
    "data.shape"
   ]
  },
  {
   "cell_type": "code",
   "execution_count": 5,
   "id": "04ee3467",
   "metadata": {
    "scrolled": true
   },
   "outputs": [
    {
     "name": "stdout",
     "output_type": "stream",
     "text": [
      "Размер набора данных (15061, 2)\n"
     ]
    }
   ],
   "source": [
    "# Дисбаланс классов!!!\n",
    "\n",
    "# [000] = 2186\n",
    "# [001] = 545\n",
    "# [010] = 2008\n",
    "# [011] = 5\n",
    "# [100] = 1226\n",
    "# [101] = 8\n",
    "# [110] = 22\n",
    "# [111] = 0 - нет данных\n",
    "\n",
    "main_df = my_dataset.augmented_dataset(path, data)\n",
    "print('Размер набора данных', main_df.shape)"
   ]
  },
  {
   "cell_type": "code",
   "execution_count": 6,
   "id": "0bc11e99",
   "metadata": {
    "scrolled": true
   },
   "outputs": [
    {
     "name": "stdout",
     "output_type": "stream",
     "text": [
      "Размер тренировочного набора данных (12048, 2)\n",
      "Размер валидационного набора данных (1506, 2)\n",
      "Размер тестового набора данных (1507, 2)\n"
     ]
    }
   ],
   "source": [
    "x_train, x_valid, x_test = my_dataset.split_data(main_df)\n",
    "\n",
    "x_train = x_train.reset_index(drop=True)\n",
    "x_valid = x_valid.reset_index(drop=True)\n",
    "x_test = x_test.reset_index(drop=True)\n",
    "\n",
    "print('Размер тренировочного набора данных', x_train.shape)\n",
    "print('Размер валидационного набора данных', x_valid.shape)\n",
    "print('Размер тестового набора данных', x_test.shape)"
   ]
  },
  {
   "cell_type": "code",
   "execution_count": 7,
   "id": "4fd4d9b1",
   "metadata": {},
   "outputs": [],
   "source": [
    "from dataset import CustomDataset\n",
    "\n",
    "train_dataset = CustomDataset(data_frame=x_train)\n",
    "valid_dataset = CustomDataset(data_frame=x_valid)\n",
    "test_dataset = CustomDataset(data_frame=x_test)"
   ]
  },
  {
   "cell_type": "code",
   "execution_count": 8,
   "id": "c8580c35",
   "metadata": {},
   "outputs": [],
   "source": [
    "from torch.utils.data import DataLoader\n",
    "\n",
    "batch_size = 64 # размер батча\n",
    "train_loader = DataLoader(train_dataset, batch_size=batch_size, shuffle=True)\n",
    "valid_loader = DataLoader(valid_dataset, batch_size=batch_size, shuffle=False)\n",
    "test_loader = DataLoader(test_dataset, batch_size=batch_size, shuffle=False)"
   ]
  },
  {
   "cell_type": "code",
   "execution_count": 9,
   "id": "dda74d74",
   "metadata": {},
   "outputs": [
    {
     "name": "stderr",
     "output_type": "stream",
     "text": [
      "/usr/local/lib/python3.10/dist-packages/torch/nn/modules/container.py:217: UserWarning: Implicit dimension choice for softmax has been deprecated. Change the call to include dim=X as an argument.\n",
      "  input = module(input)\n"
     ]
    },
    {
     "name": "stdout",
     "output_type": "stream",
     "text": [
      "Epoch [0/10], loss = 1.7602 acc_val = 0.4728\n",
      "Epoch [1/10], loss = 1.6252 acc_val = 0.5704\n",
      "Epoch [2/10], loss = 1.5802 acc_val = 0.6076\n",
      "Epoch [3/10], loss = 1.5607 acc_val = 0.6135\n",
      "Epoch [4/10], loss = 1.5366 acc_val = 0.6096\n",
      "Epoch [5/10], loss = 1.5218 acc_val = 0.6375\n",
      "Epoch [6/10], loss = 1.5056 acc_val = 0.6394\n",
      "Epoch [7/10], loss = 1.4986 acc_val = 0.6428\n",
      "Epoch [8/10], loss = 1.4846 acc_val = 0.6547\n",
      "Epoch [9/10], loss = 1.4786 acc_val = 0.6448\n"
     ]
    }
   ],
   "source": [
    "import model\n",
    "from train import train_model\n",
    "\n",
    "net = model.CNN().to(device)\n",
    "\n",
    "loss_history, best_model = train_model(train_loader, valid_loader, net, epochs=10, device=device)"
   ]
  },
  {
   "cell_type": "code",
   "execution_count": 10,
   "id": "25abe14c",
   "metadata": {},
   "outputs": [],
   "source": [
    "from train import test_model\n",
    "\n",
    "y_pred_test = test_model(model=best_model, loader_test=test_loader, device=device)\n"
   ]
  },
  {
   "cell_type": "code",
   "execution_count": 11,
   "id": "58a630c3",
   "metadata": {},
   "outputs": [
    {
     "data": {
      "image/png": "[encoded data removed]",
      "text/plain": [
       "<Figure size 640x480 with 1 Axes>"
      ]
     },
     "metadata": {},
     "output_type": "display_data"
    }
   ],
   "source": [
    "from matplotlib import pyplot as plt\n",
    "\n",
    "plt.title('График потерь',fontsize=15)\n",
    "plt.xlabel('Эпохи',fontsize=12)\n",
    "plt.ylabel('Потери',fontsize=12)\n",
    "plt.plot(loss_history)\n",
    "\n",
    "plt.show()"
   ]
  },
  {
   "cell_type": "code",
   "execution_count": 12,
   "id": "740b33fe",
   "metadata": {},
   "outputs": [
    {
     "name": "stdout",
     "output_type": "stream",
     "text": [
      "Оценка качества F1 (общая): 0.6489714664897147\n",
      "\n",
      "Оценка качества F1 по классам:\n",
      "Оценка качества F1 (000): 0.3197831978319783\n",
      "Оценка качества F1 (001): 0.5481798715203426\n",
      "Оценка качества F1 (010): 0.35180722891566263\n",
      "Оценка качества F1 (011): 0.9925558312655086\n",
      "Оценка качества F1 (100): 0.4\n",
      "Оценка качества F1 (101): 0.9777777777777777\n",
      "Оценка качества F1 (110): 0.9863636363636363\n"
     ]
    }
   ],
   "source": [
    "import sklearn.metrics as metrics\n",
    "import numpy as np\n",
    "\n",
    "y_true_test = np.array(x_test['label'])\n",
    "\n",
    "y_predict_test = []\n",
    "for y_pred in y_pred_test:\n",
    "    y_predict_test.append(y_pred)\n",
    "Y_predict_test = np.array(y_predict_test).reshape(-1)\n",
    "\n",
    "# [000] - 0\n",
    "# [001] = 1\n",
    "# [010] = 2\n",
    "# [011] = 3\n",
    "# [100] = 4\n",
    "# [101] = 5\n",
    "# [110] = 6\n",
    "# [111] = нет данных\n",
    "result_total = metrics.f1_score(y_true_test, Y_predict_test, average='micro')\n",
    "class_results = metrics.f1_score(y_true_test, Y_predict_test, average=None)\n",
    "\n",
    "\n",
    "print(\"Оценка качества F1 (общая):\", result_total)\n",
    "print()\n",
    "print(\"Оценка качества F1 по классам:\")\n",
    "print(\"Оценка качества F1 (000):\", class_results[0])\n",
    "print(\"Оценка качества F1 (001):\", class_results[1])\n",
    "print(\"Оценка качества F1 (010):\", class_results[2])\n",
    "print(\"Оценка качества F1 (011):\", class_results[3])\n",
    "print(\"Оценка качества F1 (100):\", class_results[4])\n",
    "print(\"Оценка качества F1 (101):\", class_results[5])\n",
    "print(\"Оценка качества F1 (110):\", class_results[6])"
   ]
  },
  {
   "cell_type": "code",
   "execution_count": 13,
   "id": "eac874e5",
   "metadata": {},
   "outputs": [
    {
     "data": {
      "text/html": [
       "<div>\n",
       "<style scoped>\n",
       "    .dataframe tbody tr th:only-of-type {\n",
       "        vertical-align: middle;\n",
       "    }\n",
       "\n",
       "    .dataframe tbody tr th {\n",
       "        vertical-align: top;\n",
       "    }\n",
       "\n",
       "    .dataframe thead th {\n",
       "        text-align: right;\n",
       "    }\n",
       "</style>\n",
       "<table border=\"1\" class=\"dataframe\">\n",
       "  <thead>\n",
       "    <tr style=\"text-align: right;\">\n",
       "      <th></th>\n",
       "      <th>000</th>\n",
       "      <th>001</th>\n",
       "      <th>010</th>\n",
       "      <th>011</th>\n",
       "      <th>100</th>\n",
       "      <th>101</th>\n",
       "      <th>110</th>\n",
       "    </tr>\n",
       "  </thead>\n",
       "  <tbody>\n",
       "    <tr>\n",
       "      <th>000</th>\n",
       "      <td>59</td>\n",
       "      <td>31</td>\n",
       "      <td>61</td>\n",
       "      <td>0</td>\n",
       "      <td>67</td>\n",
       "      <td>1</td>\n",
       "      <td>0</td>\n",
       "    </tr>\n",
       "    <tr>\n",
       "      <th>001</th>\n",
       "      <td>14</td>\n",
       "      <td>128</td>\n",
       "      <td>33</td>\n",
       "      <td>0</td>\n",
       "      <td>43</td>\n",
       "      <td>0</td>\n",
       "      <td>0</td>\n",
       "    </tr>\n",
       "    <tr>\n",
       "      <th>010</th>\n",
       "      <td>40</td>\n",
       "      <td>32</td>\n",
       "      <td>73</td>\n",
       "      <td>2</td>\n",
       "      <td>53</td>\n",
       "      <td>1</td>\n",
       "      <td>0</td>\n",
       "    </tr>\n",
       "    <tr>\n",
       "      <th>011</th>\n",
       "      <td>0</td>\n",
       "      <td>0</td>\n",
       "      <td>0</td>\n",
       "      <td>200</td>\n",
       "      <td>0</td>\n",
       "      <td>0</td>\n",
       "      <td>0</td>\n",
       "    </tr>\n",
       "    <tr>\n",
       "      <th>100</th>\n",
       "      <td>35</td>\n",
       "      <td>58</td>\n",
       "      <td>45</td>\n",
       "      <td>1</td>\n",
       "      <td>103</td>\n",
       "      <td>3</td>\n",
       "      <td>1</td>\n",
       "    </tr>\n",
       "    <tr>\n",
       "      <th>101</th>\n",
       "      <td>2</td>\n",
       "      <td>0</td>\n",
       "      <td>0</td>\n",
       "      <td>0</td>\n",
       "      <td>1</td>\n",
       "      <td>198</td>\n",
       "      <td>0</td>\n",
       "    </tr>\n",
       "    <tr>\n",
       "      <th>110</th>\n",
       "      <td>0</td>\n",
       "      <td>0</td>\n",
       "      <td>2</td>\n",
       "      <td>0</td>\n",
       "      <td>2</td>\n",
       "      <td>1</td>\n",
       "      <td>217</td>\n",
       "    </tr>\n",
       "  </tbody>\n",
       "</table>\n",
       "</div>"
      ],
      "text/plain": [
       "     000  001  010  011  100  101  110\n",
       "000   59   31   61    0   67    1    0\n",
       "001   14  128   33    0   43    0    0\n",
       "010   40   32   73    2   53    1    0\n",
       "011    0    0    0  200    0    0    0\n",
       "100   35   58   45    1  103    3    1\n",
       "101    2    0    0    0    1  198    0\n",
       "110    0    0    2    0    2    1  217"
      ]
     },
     "execution_count": 13,
     "metadata": {},
     "output_type": "execute_result"
    }
   ],
   "source": [
    "from sklearn.metrics import confusion_matrix\n",
    "\n",
    "conf_matrix_test = confusion_matrix(y_true_test, Y_predict_test)\n",
    "conf_matrix_labels_test = pd.DataFrame(conf_matrix_test, \n",
    "                                       columns = ['000', '001', '010', '011', '100', '101', '110'], \n",
    "                                       index = ['000', '001', '010', '011', '100', '101', '110'])\n",
    "conf_matrix_labels_test"
   ]
  },
  {
   "cell_type": "code",
   "execution_count": null,
   "id": "8379d0ce",
   "metadata": {},
   "outputs": [],
   "source": []
  }
 ],
 "metadata": {
  "kernelspec": {
   "display_name": "Python 3 (ipykernel)",
   "language": "python",
   "name": "python3"
  },
  "language_info": {
   "codemirror_mode": {
    "name": "ipython",
    "version": 3
   },
   "file_extension": ".py",
   "mimetype": "text/x-python",
   "name": "python",
   "nbconvert_exporter": "python",
   "pygments_lexer": "ipython3",
   "version": "3.10.12"
  }
 },
 "nbformat": 4,
 "nbformat_minor": 5
}
